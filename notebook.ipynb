{
 "cells": [
  {
   "cell_type": "markdown",
   "metadata": {},
   "source": [
    "A family has twin girls -- Lucie, who went to Western Michigan, and Lilly, who went to South Alabama. As it turns out, W Michigan and South are facing off in the 2024 FBS postseason.\n",
    "\n",
    "The father said: \"For our only two children to be one at Western Michigan and one at South, it just blew my mind. What are the actual odds?\"\n",
    "\n",
    "***Challenge accepted!***"
   ]
  },
  {
   "cell_type": "markdown",
   "metadata": {},
   "source": [
    "## A Naive Approach\n",
    "\n",
    "In the 2024-25 football season, there will be $82$ FBS schools with teams playing in a post-season game (either a playoff game or bowl game).\n",
    "A simple analysis would suggest that if our twins Lucie and Lilly attended different schools, randomly chosen among these $82$, there would be\n",
    "a $1$ out of $81$ chance their schools would face off against each other, or about $1.22\\%$. (It doesn't matter which school Lucie goes to: she\n",
    "only matches up with Lilly provided Lilly attends the one of the remaining $81$ schools that was scheduled to play Lucie's team.)"
   ]
  },
  {
   "cell_type": "markdown",
   "metadata": {},
   "source": [
    "## Victory for Fansville\n",
    "\n",
    "However, the fans are the true winners this year, as we have finally gotten an expanded [12-team College Football Playoff](https://en.wikipedia.org/wiki/2024%E2%80%9325_College_Football_Playoff)! This means our twins will have a slightly greater chance to wave at each other across the stadium, if their teams are lucky enough to make the bracket."
   ]
  },
  {
   "cell_type": "markdown",
   "metadata": {},
   "source": [
    "![bracket](./bracket.png)"
   ]
  },
  {
   "cell_type": "markdown",
   "metadata": {},
   "source": [
    "The analysis actually would vary a bit if you assume a few dark horse victories, but for simplicity, we won't root for the underdogs today. This means that Seeds 9 though 12 only see one team in the post season, Seeds 3 through 8 all encounter two teams, and our top two Seeds face off against three teams."
   ]
  },
  {
   "cell_type": "markdown",
   "metadata": {},
   "source": [
    "As I tell my students, let's be adults and use technology before we make a mistake. The code below shows the details, but we now see that we've bumped up the odds just slightly to $46$ out of $6642$, or about $1.39\\%$."
   ]
  },
  {
   "cell_type": "code",
   "execution_count": 1,
   "metadata": {},
   "outputs": [],
   "source": [
    "from IPython.display import display, Math, Markdown"
   ]
  },
  {
   "cell_type": "code",
   "execution_count": 2,
   "metadata": {},
   "outputs": [
    {
     "data": {
      "text/markdown": [
       "#### Scenario A"
      ],
      "text/plain": [
       "<IPython.core.display.Markdown object>"
      ]
     },
     "metadata": {},
     "output_type": "display_data"
    },
    {
     "data": {
      "text/latex": [
       "$\\displaystyle 1.05\\% \\text{, or 70 out of 6642}$"
      ],
      "text/plain": [
       "<IPython.core.display.Math object>"
      ]
     },
     "metadata": {},
     "output_type": "display_data"
    }
   ],
   "source": [
    "# There is a 70 out of 82 chance Lucie's team doesn't make the playoff. In this case, there's a 1 out of 81 chance Lilly's team is her opponent.\n",
    "scenarioA = (70/82) * (1/81)\n",
    "display(Markdown(\"#### Scenario A\"))\n",
    "display(Math(f\"{scenarioA*100:.2f}\\\\% \\\\text{{, or {70*1} out of {81*82}}}\"))"
   ]
  },
  {
   "cell_type": "code",
   "execution_count": 3,
   "metadata": {},
   "outputs": [
    {
     "data": {
      "text/markdown": [
       "#### Scenario B"
      ],
      "text/plain": [
       "<IPython.core.display.Markdown object>"
      ]
     },
     "metadata": {},
     "output_type": "display_data"
    },
    {
     "data": {
      "text/latex": [
       "$\\displaystyle 0.06\\% \\text{, or 4 out of 6642}$"
      ],
      "text/plain": [
       "<IPython.core.display.Math object>"
      ]
     },
     "metadata": {},
     "output_type": "display_data"
    }
   ],
   "source": [
    "# There is a 4 out of 82 chance Lucie's team is seeded 9 through 12. In that case, there's still only a 1 out of 81 chance Lilly's team is her opponent.\n",
    "scenarioB = (4/82) * (1/81)\n",
    "display(Markdown(\"#### Scenario B\"))\n",
    "display(Math(f\"{scenarioB*100:.2f}\\\\% \\\\text{{, or {4*1} out of {81*82}}}\"))"
   ]
  },
  {
   "cell_type": "code",
   "execution_count": 4,
   "metadata": {},
   "outputs": [
    {
     "data": {
      "text/markdown": [
       "#### Scenario C"
      ],
      "text/plain": [
       "<IPython.core.display.Markdown object>"
      ]
     },
     "metadata": {},
     "output_type": "display_data"
    },
    {
     "data": {
      "text/latex": [
       "$\\displaystyle 0.18\\% \\text{, or 12 out of 6642}$"
      ],
      "text/plain": [
       "<IPython.core.display.Math object>"
      ]
     },
     "metadata": {},
     "output_type": "display_data"
    }
   ],
   "source": [
    "# There is a 6 out of 82 chance Lucie's team is seeded 3 through 8. Now there's a 2 out of 81 chance Lilly's team is one of her opponents.\n",
    "scenarioC = (6/82) * (2/81)\n",
    "display(Markdown(\"#### Scenario C\"))\n",
    "display(Math(f\"{scenarioC*100:.2f}\\\\% \\\\text{{, or {6*2} out of {81*82}}}\"))"
   ]
  },
  {
   "cell_type": "code",
   "execution_count": 5,
   "metadata": {},
   "outputs": [
    {
     "data": {
      "text/markdown": [
       "#### Scenario D"
      ],
      "text/plain": [
       "<IPython.core.display.Markdown object>"
      ]
     },
     "metadata": {},
     "output_type": "display_data"
    },
    {
     "data": {
      "text/latex": [
       "$\\displaystyle 0.09\\% \\text{, or 6 out of 6642}$"
      ],
      "text/plain": [
       "<IPython.core.display.Math object>"
      ]
     },
     "metadata": {},
     "output_type": "display_data"
    }
   ],
   "source": [
    "# Finally we have a 2 out of 82 chance Lucie's team is seeded 1 or 2. Then there's a 3 out of 81 chance Lilly's team is one of her opponents.\n",
    "scenarioD = (2/82) * (3/81)\n",
    "display(Markdown(\"#### Scenario D\"))\n",
    "display(Math(f\"{scenarioD*100:.2f}\\\\% \\\\text{{, or {2*3} out of {81*82}}}\"))"
   ]
  },
  {
   "cell_type": "code",
   "execution_count": 6,
   "metadata": {},
   "outputs": [
    {
     "data": {
      "text/markdown": [
       "### Total"
      ],
      "text/plain": [
       "<IPython.core.display.Markdown object>"
      ]
     },
     "metadata": {},
     "output_type": "display_data"
    },
    {
     "data": {
      "text/latex": [
       "$\\displaystyle 1.39\\% \\text{, or 92 out of 6642}$"
      ],
      "text/plain": [
       "<IPython.core.display.Math object>"
      ]
     },
     "metadata": {},
     "output_type": "display_data"
    }
   ],
   "source": [
    "# This covers all scenarios, so our overall chances are the sum of these.\n",
    "overall = scenarioA + scenarioB + scenarioC + scenarioD\n",
    "display(Markdown(\"### Total\"))\n",
    "display(Math(f\"{overall*100:.2f}\\\\% \\\\text{{, or {70*1 + 4*1 + 6*2 + 2*3} out of {81*82}}}\"))"
   ]
  },
  {
   "cell_type": "markdown",
   "metadata": {},
   "source": [
    "## Not Everyone Makes the Post-Season\n",
    "\n",
    "But the sad truth, which hits home especially for this Auburn alum, is that not every FBS team makes it to a bowl, much less the playoffs. So what if Lucie and Lilly did not just attend random schools who made it to the post-season?"
   ]
  },
  {
   "cell_type": "markdown",
   "metadata": {},
   "source": [
    "There are [$134$ teams playing FBS football this season](https://en.wikipedia.org/wiki/2024_NCAA_Division_I_FBS_football_season). So we can modify the previous calculation by first calculating the chances both girls happened to be enrolled at one of the $82$ schools who sent a team to the post-season."
   ]
  },
  {
   "cell_type": "code",
   "execution_count": 7,
   "metadata": {},
   "outputs": [
    {
     "data": {
      "text/markdown": [
       "### Chances to meet in post-season, assuming FBS schools"
      ],
      "text/plain": [
       "<IPython.core.display.Markdown object>"
      ]
     },
     "metadata": {},
     "output_type": "display_data"
    },
    {
     "data": {
      "text/latex": [
       "$\\displaystyle 0.52\\% \\text{, or around 6 out of 1183}$"
      ],
      "text/plain": [
       "<IPython.core.display.Math object>"
      ]
     },
     "metadata": {},
     "output_type": "display_data"
    }
   ],
   "source": [
    "# Lucie has a 82 out of 134 chance to be in a post-season team, and then Lilly has an 81 out of 133 chance to be at another such school.\n",
    "lucie_makes_postseason = 82 / 134\n",
    "lilly_makes_postseason = 81 / 133\n",
    "chances_meeting_in_postseason = 92 / 6642\n",
    "overall_chances = lucie_makes_postseason * lilly_makes_postseason * chances_meeting_in_postseason\n",
    "display(Markdown(\"### Chances to meet in post-season, assuming FBS schools\"))\n",
    "display(Math(f\"{overall_chances*100:.2f}\\\\% \\\\text{{, or around {82*81*92 // 100000} out of {134*133*6642 // 100000}}}\"))"
   ]
  },
  {
   "cell_type": "markdown",
   "metadata": {},
   "source": [
    "Already our twins have found themselves in a rare scenario! But what if we sent a step further? According to the [National Center for\n",
    "Education Statistics](https://nces.ed.gov/fastfacts/display.asp?id=1122), there were $2637$ four-year colleges offering classes the 2020-2021 academic year. So what happens if we only assume Lucie and Lilly chose a random four-year college to attend?"
   ]
  },
  {
   "cell_type": "code",
   "execution_count": 8,
   "metadata": {},
   "outputs": [
    {
     "data": {
      "text/markdown": [
       "### Chances to meet in post-season, assuming FBS schools"
      ],
      "text/plain": [
       "<IPython.core.display.Markdown object>"
      ]
     },
     "metadata": {},
     "output_type": "display_data"
    },
    {
     "data": {
      "text/latex": [
       "$\\displaystyle 0.0013\\% \\text{, or around 6 out of 461694}$"
      ],
      "text/plain": [
       "<IPython.core.display.Math object>"
      ]
     },
     "metadata": {},
     "output_type": "display_data"
    }
   ],
   "source": [
    "# Lucie has a 82 out of 2637 chance to be in a post-season team, and then Lilly has an 81 out of 2636 chance to be at another such school.\n",
    "lucie_makes_postseason = 82 / 2637\n",
    "lilly_makes_postseason = 81 / 2636\n",
    "chances_meeting_in_postseason = 92 / 6642\n",
    "overall_chances = lucie_makes_postseason * lilly_makes_postseason * chances_meeting_in_postseason\n",
    "display(Markdown(\"### Chances to meet in post-season, assuming FBS schools\"))\n",
    "display(Math(f\"{overall_chances*100:.4f}\\\\% \\\\text{{, or around {82*81*92 // 100000} out of {2637*2636*6642 // 100000}}}\"))"
   ]
  },
  {
   "cell_type": "markdown",
   "metadata": {},
   "source": [
    "With the probability sitting at just over a thousandth of a percent, we're not quite looking at a once-in-a-million situation, but I think it's still safe to say that Lucie and Lilly get to enjoy a rare matchup nonetheless!"
   ]
  },
  {
   "cell_type": "markdown",
   "metadata": {},
   "source": [
    "# Go Jags!\n",
    "\n",
    "![football](./football.jpg)"
   ]
  },
  {
   "cell_type": "markdown",
   "metadata": {},
   "source": [
    "### About the Author\n",
    "\n",
    "[Dr. Steven Clontz](https://clontz.org) is an Associate Professor of Mathematics at the University of South Alabama whose research intersts include game theory, so he comes by this over-analysis honestly."
   ]
  }
 ],
 "metadata": {
  "kernelspec": {
   "display_name": "Python 3",
   "language": "python",
   "name": "python3"
  },
  "language_info": {
   "codemirror_mode": {
    "name": "ipython",
    "version": 3
   },
   "file_extension": ".py",
   "mimetype": "text/x-python",
   "name": "python",
   "nbconvert_exporter": "python",
   "pygments_lexer": "ipython3",
   "version": "3.12.1"
  }
 },
 "nbformat": 4,
 "nbformat_minor": 2
}
