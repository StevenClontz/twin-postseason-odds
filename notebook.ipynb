{
 "cells": [
  {
   "cell_type": "markdown",
   "metadata": {},
   "source": [
    "A family has twin girls -- Lucie, who went to Western Michigan, and Lilly, who went to South Alabama. As it turns out, W Michigan and South are facing off in the 2024 FBS postseason.\n",
    "\n",
    "The father said: \"For our only two children to be one at Western Michigan and one at South, it just blew my mind. What are the actual odds?\"\n",
    "\n",
    "*Challenge accepted!*"
   ]
  }
 ],
 "metadata": {
  "kernelspec": {
   "display_name": "Python 3",
   "language": "python",
   "name": "python3"
  },
  "language_info": {
   "name": "python",
   "version": "3.12.1"
  }
 },
 "nbformat": 4,
 "nbformat_minor": 2
}
