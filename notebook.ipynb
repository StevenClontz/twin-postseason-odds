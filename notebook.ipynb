{
 "cells": [
  {
   "cell_type": "markdown",
   "metadata": {},
   "source": [
    "A family has twin girls -- Lucie, who went to Western Michigan, and Lilly, who went to South Alabama. As it turns out, W Michigan and South are facing off in the 2024 FBS postseason.\n",
    "\n",
    "The father said: \"For our only two children to be one at Western Michigan and one at South, it just blew my mind. What are the actual odds?\"\n",
    "\n",
    "***Challenge accepted!***"
   ]
  },
  {
   "cell_type": "markdown",
   "metadata": {},
   "source": [
    "## A naive approach\n",
    "\n",
    "In the 2024-25 football season, there will be $82$ FBS schools with teams playing in a post-season game (either a playoff game or bowl game).\n",
    "A simple analysis would suggest that if our twins Lucie and Lilly attended different schools, randomly chosen among these $82$, there would be\n",
    "a $1$ out of $81$ chance their schools would face off against each other, or about $1.22\\%$. (It doesn't matter which school Lucie goes to: she\n",
    "only matches up with Lilly provided Lilly attends the one of the remaining $81$ schools that was scheduled to play Lucie's team.)"
   ]
  },
  {
   "cell_type": "markdown",
   "metadata": {},
   "source": [
    "## Victory for Fansville\n",
    "\n",
    "However, the fans are the true winners this year, as we have finally gotten an expanded 12-team College Football Playoff! This means our twins will have a slightly greater chance to face off across the stadium from one another, if their teams are lucky enough to make the bracket."
   ]
  },
  {
   "cell_type": "markdown",
   "metadata": {},
   "source": [
    "![bracket](./bracket.png)"
   ]
  },
  {
   "cell_type": "markdown",
   "metadata": {},
   "source": [
    "The analysis actually would vary a bit if you assume a few dark horse victories, but for simplicity, we won't root for the underdogs today. This means that Seeds 9 though 12 only see one team in the post season, Seeds 3 through 8 all encounter two teams, and our top two Seeds face off against three teams."
   ]
  },
  {
   "cell_type": "markdown",
   "metadata": {},
   "source": [
    "As I tell my students, let's be adults and use technology before we make a mistake. The code below shows the details, but we now see that we've bumped up the odds just slightly to $46$ out of $3321$, or about $1.39\\%$."
   ]
  },
  {
   "cell_type": "code",
   "execution_count": 11,
   "metadata": {},
   "outputs": [],
   "source": [
    "from IPython.display import display, Math"
   ]
  },
  {
   "cell_type": "code",
   "execution_count": 12,
   "metadata": {},
   "outputs": [
    {
     "data": {
      "text/latex": [
       "$\\displaystyle 1.05\\%$"
      ],
      "text/plain": [
       "<IPython.core.display.Math object>"
      ]
     },
     "metadata": {},
     "output_type": "display_data"
    }
   ],
   "source": [
    "# There is a 70 out of 82 chance Lucie's team doesn't make the playoff. In this case, there's a 1 out of 81 chance Lilly's team is her opponent.\n",
    "scenarioA = (70/82) * (1/81)\n",
    "display(Math(f\"{scenarioA*100:.2f}\\\\%\"))"
   ]
  },
  {
   "cell_type": "code",
   "execution_count": 14,
   "metadata": {},
   "outputs": [
    {
     "data": {
      "text/latex": [
       "$\\displaystyle 0.06\\%$"
      ],
      "text/plain": [
       "<IPython.core.display.Math object>"
      ]
     },
     "metadata": {},
     "output_type": "display_data"
    }
   ],
   "source": [
    "# There is a 4 out of 82 chance Lucie's team is seeded 9 through 12. In that case, there's still only a 1 out of 81 chance Lilly's team is her opponent.\n",
    "scenarioB = (4/82) * (1/81)\n",
    "display(Math(f\"{scenarioB*100:.2f}\\\\%\"))"
   ]
  },
  {
   "cell_type": "code",
   "execution_count": 15,
   "metadata": {},
   "outputs": [
    {
     "data": {
      "text/latex": [
       "$\\displaystyle 0.18\\%$"
      ],
      "text/plain": [
       "<IPython.core.display.Math object>"
      ]
     },
     "metadata": {},
     "output_type": "display_data"
    }
   ],
   "source": [
    "# There is a 6 out of 82 chance Lucie's team is seeded 3 through 8. Now there's a 2 out of 81 chance Lilly's team is one of her opponents.\n",
    "scenarioC = (6/82) * (2/81)\n",
    "display(Math(f\"{scenarioC*100:.2f}\\\\%\"))"
   ]
  },
  {
   "cell_type": "code",
   "execution_count": 16,
   "metadata": {},
   "outputs": [
    {
     "data": {
      "text/latex": [
       "$\\displaystyle 0.09\\%$"
      ],
      "text/plain": [
       "<IPython.core.display.Math object>"
      ]
     },
     "metadata": {},
     "output_type": "display_data"
    }
   ],
   "source": [
    "# Finally we have a 2 out of 82 chance Lucie's team is seeded 1 or 2. Then there's a 3 out of 81 chance Lilly's team is one of her opponents.\n",
    "scenarioD = (2/82) * (3/81)\n",
    "display(Math(f\"{scenarioD*100:.2f}\\\\%\"))"
   ]
  },
  {
   "cell_type": "code",
   "execution_count": 17,
   "metadata": {},
   "outputs": [
    {
     "data": {
      "text/latex": [
       "$\\displaystyle 1.39\\%$"
      ],
      "text/plain": [
       "<IPython.core.display.Math object>"
      ]
     },
     "metadata": {},
     "output_type": "display_data"
    }
   ],
   "source": [
    "# This covers all scenarios, so our overall chances are the sum of these.\n",
    "overall = scenarioA + scenarioB + scenarioC + scenarioD\n",
    "display(Math(f\"{overall*100:.2f}\\\\%\"))"
   ]
  }
 ],
 "metadata": {
  "kernelspec": {
   "display_name": "Python 3",
   "language": "python",
   "name": "python3"
  },
  "language_info": {
   "codemirror_mode": {
    "name": "ipython",
    "version": 3
   },
   "file_extension": ".py",
   "mimetype": "text/x-python",
   "name": "python",
   "nbconvert_exporter": "python",
   "pygments_lexer": "ipython3",
   "version": "3.12.1"
  }
 },
 "nbformat": 4,
 "nbformat_minor": 2
}
